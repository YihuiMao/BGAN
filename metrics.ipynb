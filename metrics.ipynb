{
  "nbformat": 4,
  "nbformat_minor": 0,
  "metadata": {
    "colab": {
      "name": "Untitled5.ipynb",
      "provenance": [],
      "machine_shape": "hm"
    },
    "kernelspec": {
      "name": "python3",
      "display_name": "Python 3"
    },
    "language_info": {
      "name": "python"
    },
    "accelerator": "GPU"
  },
  "cells": [
    {
      "cell_type": "code",
      "execution_count": 1,
      "metadata": {
        "colab": {
          "base_uri": "https://localhost:8080/"
        },
        "id": "6bxId9yZm9vi",
        "outputId": "3e2788ee-e1f7-44fe-eb97-52e31a69f38f"
      },
      "outputs": [
        {
          "output_type": "stream",
          "name": "stdout",
          "text": [
            "Collecting pytorch-fid\n",
            "  Downloading pytorch-fid-0.2.1.tar.gz (14 kB)\n",
            "Requirement already satisfied: numpy in /usr/local/lib/python3.7/dist-packages (from pytorch-fid) (1.19.5)\n",
            "Requirement already satisfied: pillow in /usr/local/lib/python3.7/dist-packages (from pytorch-fid) (7.1.2)\n",
            "Requirement already satisfied: scipy in /usr/local/lib/python3.7/dist-packages (from pytorch-fid) (1.4.1)\n",
            "Requirement already satisfied: torch>=1.0.1 in /usr/local/lib/python3.7/dist-packages (from pytorch-fid) (1.10.0+cu111)\n",
            "Requirement already satisfied: torchvision>=0.2.2 in /usr/local/lib/python3.7/dist-packages (from pytorch-fid) (0.11.1+cu111)\n",
            "Requirement already satisfied: typing-extensions in /usr/local/lib/python3.7/dist-packages (from torch>=1.0.1->pytorch-fid) (3.10.0.2)\n",
            "Building wheels for collected packages: pytorch-fid\n",
            "  Building wheel for pytorch-fid (setup.py) ... \u001b[?25l\u001b[?25hdone\n",
            "  Created wheel for pytorch-fid: filename=pytorch_fid-0.2.1-py3-none-any.whl size=14835 sha256=385dcbdd820eca5566e2efa01956fff06ca05e44ead8a94a669c0e8ec99a778c\n",
            "  Stored in directory: /root/.cache/pip/wheels/24/ac/03/c5634775c8a64f702343ef5923278f8d3bb8c651debc4a6890\n",
            "Successfully built pytorch-fid\n",
            "Installing collected packages: pytorch-fid\n",
            "Successfully installed pytorch-fid-0.2.1\n"
          ]
        }
      ],
      "source": [
        "!pip install pytorch-fid"
      ]
    },
    {
      "cell_type": "code",
      "source": [
        "! python -m pytorch_fid ./image_rgb ./image_sample"
      ],
      "metadata": {
        "colab": {
          "base_uri": "https://localhost:8080/"
        },
        "id": "ZrK6LVupn6ZB",
        "outputId": "12baecb1-8f24-4917-df1b-1e53764dad66"
      },
      "execution_count": 2,
      "outputs": [
        {
          "output_type": "stream",
          "name": "stdout",
          "text": [
            "Downloading: \"https://github.com/mseitzer/pytorch-fid/releases/download/fid_weights/pt_inception-2015-12-05-6726825d.pth\" to /root/.cache/torch/hub/checkpoints/pt_inception-2015-12-05-6726825d.pth\n",
            "100% 91.2M/91.2M [00:01<00:00, 95.1MB/s]\n",
            "100% 4/4 [00:02<00:00,  1.68it/s]\n",
            "100% 4/4 [00:02<00:00,  1.91it/s]\n",
            "FID:  148.46248141745352\n"
          ]
        }
      ]
    },
    {
      "cell_type": "code",
      "source": [
        "!pip install lpips"
      ],
      "metadata": {
        "colab": {
          "base_uri": "https://localhost:8080/"
        },
        "id": "evgu-ypWooig",
        "outputId": "1592fbbe-ca1e-401f-e8fb-9bf3c15c4c09"
      },
      "execution_count": 3,
      "outputs": [
        {
          "output_type": "stream",
          "name": "stdout",
          "text": [
            "Collecting lpips\n",
            "  Downloading lpips-0.1.4-py3-none-any.whl (53 kB)\n",
            "\u001b[?25l\r\u001b[K     |██████                          | 10 kB 30.1 MB/s eta 0:00:01\r\u001b[K     |████████████▏                   | 20 kB 10.1 MB/s eta 0:00:01\r\u001b[K     |██████████████████▎             | 30 kB 8.6 MB/s eta 0:00:01\r\u001b[K     |████████████████████████▍       | 40 kB 8.2 MB/s eta 0:00:01\r\u001b[K     |██████████████████████████████▌ | 51 kB 4.9 MB/s eta 0:00:01\r\u001b[K     |████████████████████████████████| 53 kB 1.5 MB/s \n",
            "\u001b[?25hRequirement already satisfied: tqdm>=4.28.1 in /usr/local/lib/python3.7/dist-packages (from lpips) (4.62.3)\n",
            "Requirement already satisfied: torchvision>=0.2.1 in /usr/local/lib/python3.7/dist-packages (from lpips) (0.11.1+cu111)\n",
            "Requirement already satisfied: numpy>=1.14.3 in /usr/local/lib/python3.7/dist-packages (from lpips) (1.19.5)\n",
            "Requirement already satisfied: torch>=0.4.0 in /usr/local/lib/python3.7/dist-packages (from lpips) (1.10.0+cu111)\n",
            "Requirement already satisfied: scipy>=1.0.1 in /usr/local/lib/python3.7/dist-packages (from lpips) (1.4.1)\n",
            "Requirement already satisfied: typing-extensions in /usr/local/lib/python3.7/dist-packages (from torch>=0.4.0->lpips) (3.10.0.2)\n",
            "Requirement already satisfied: pillow!=8.3.0,>=5.3.0 in /usr/local/lib/python3.7/dist-packages (from torchvision>=0.2.1->lpips) (7.1.2)\n",
            "Installing collected packages: lpips\n",
            "Successfully installed lpips-0.1.4\n"
          ]
        }
      ]
    },
    {
      "cell_type": "code",
      "source": [
        "!git clone https://github.com/richzhang/PerceptualSimilarity"
      ],
      "metadata": {
        "colab": {
          "base_uri": "https://localhost:8080/"
        },
        "id": "O6CJTvsDor3z",
        "outputId": "81b6e984-8d08-42d5-effc-f0bd94157fae"
      },
      "execution_count": 7,
      "outputs": [
        {
          "output_type": "stream",
          "name": "stdout",
          "text": [
            "Cloning into 'PerceptualSimilarity'...\n",
            "remote: Enumerating objects: 778, done.\u001b[K\n",
            "remote: Counting objects: 100% (47/47), done.\u001b[K\n",
            "remote: Compressing objects: 100% (35/35), done.\u001b[K\n",
            "remote: Total 778 (delta 24), reused 28 (delta 12), pack-reused 731\u001b[K\n",
            "Receiving objects: 100% (778/778), 8.76 MiB | 33.47 MiB/s, done.\n",
            "Resolving deltas: 100% (455/455), done.\n"
          ]
        }
      ]
    },
    {
      "cell_type": "code",
      "source": [
        "cd PerceptualSimilarity"
      ],
      "metadata": {
        "colab": {
          "base_uri": "https://localhost:8080/"
        },
        "id": "j-_Soz_mqNzY",
        "outputId": "bdbdf92f-58cd-4e60-e3c5-a1ecd7358d54"
      },
      "execution_count": 9,
      "outputs": [
        {
          "output_type": "stream",
          "name": "stdout",
          "text": [
            "/content/PerceptualSimilarity\n"
          ]
        }
      ]
    },
    {
      "cell_type": "code",
      "source": [
        "!python lpips_2dirs.py -d0 ../image_rgb -d1 ../image_sample/ -o example_dists.txt --use_gpu"
      ],
      "metadata": {
        "colab": {
          "base_uri": "https://localhost:8080/"
        },
        "id": "UQ6F2yEhp5ip",
        "outputId": "b602c08d-bd2f-49c0-8711-72fd3307a944"
      },
      "execution_count": 11,
      "outputs": [
        {
          "output_type": "stream",
          "name": "stdout",
          "text": [
            "Setting up [LPIPS] perceptual loss: trunk [alex], v[0.1], spatial [off]\n",
            "Loading model from: /content/PerceptualSimilarity/lpips/weights/v0.1/alex.pth\n",
            "49.png: 0.124\n",
            "152.png: 0.128\n",
            "180.png: 0.183\n",
            "101.png: 0.108\n",
            "154.png: 0.150\n",
            "33.png: 0.046\n",
            "47.png: 0.126\n",
            "149.png: 0.085\n",
            "62.png: 0.132\n",
            "177.png: 0.127\n",
            "150.png: 0.196\n",
            "6.png: 0.230\n",
            "55.png: 0.115\n",
            "178.png: 0.064\n",
            "22.png: 0.184\n",
            "143.png: 0.096\n",
            "54.png: 0.108\n",
            "108.png: 0.095\n",
            "171.png: 0.179\n",
            "9.png: 0.071\n",
            "151.png: 0.035\n",
            "116.png: 0.119\n",
            "65.png: 0.062\n",
            "5.png: 0.034\n",
            "32.png: 0.134\n",
            "123.png: 0.164\n",
            "186.png: 0.152\n",
            "167.png: 0.160\n",
            "158.png: 0.068\n",
            "76.png: 0.065\n",
            "61.png: 0.026\n",
            "26.png: 0.183\n",
            "72.png: 0.209\n",
            "82.png: 0.069\n",
            "196.png: 0.052\n",
            "197.png: 0.060\n",
            "18.png: 0.217\n",
            "112.png: 0.050\n",
            "88.png: 0.077\n",
            "169.png: 0.192\n",
            "121.png: 0.066\n",
            "126.png: 0.181\n",
            "37.png: 0.075\n",
            "41.png: 0.062\n",
            "69.png: 0.029\n",
            "0.png: 0.184\n",
            "164.png: 0.210\n",
            "102.png: 0.136\n",
            "115.png: 0.055\n",
            "75.png: 0.161\n",
            "66.png: 0.095\n",
            "92.png: 0.202\n",
            "120.png: 0.174\n",
            "189.png: 0.071\n",
            "74.png: 0.126\n",
            "4.png: 0.085\n",
            "79.png: 0.053\n",
            "58.png: 0.043\n",
            "163.png: 0.119\n",
            "21.png: 0.048\n",
            "127.png: 0.121\n",
            "15.png: 0.099\n",
            "70.png: 0.205\n",
            "27.png: 0.172\n",
            "71.png: 0.122\n",
            "60.png: 0.172\n",
            "146.png: 0.183\n",
            "57.png: 0.060\n",
            "53.png: 0.034\n",
            "87.png: 0.123\n",
            "194.png: 0.088\n",
            "94.png: 0.064\n",
            "29.png: 0.066\n",
            "48.png: 0.201\n",
            "51.png: 0.138\n",
            "103.png: 0.061\n",
            "124.png: 0.182\n",
            "104.png: 0.116\n",
            "113.png: 0.110\n",
            "91.png: 0.139\n",
            "119.png: 0.086\n",
            "14.png: 0.142\n",
            "35.png: 0.149\n",
            "59.png: 0.124\n",
            "73.png: 0.159\n",
            "68.png: 0.174\n",
            "100.png: 0.129\n",
            "106.png: 0.080\n",
            "165.png: 0.078\n",
            "83.png: 0.193\n",
            "1.png: 0.111\n",
            "157.png: 0.086\n",
            "85.png: 0.105\n",
            "125.png: 0.093\n",
            "105.png: 0.078\n",
            "50.png: 0.280\n",
            "184.png: 0.109\n",
            "96.png: 0.155\n",
            "147.png: 0.103\n",
            "173.png: 0.057\n",
            "42.png: 0.176\n",
            "89.png: 0.092\n",
            "97.png: 0.039\n",
            "118.png: 0.201\n",
            "19.png: 0.132\n",
            "141.png: 0.031\n",
            "2.png: 0.135\n",
            "148.png: 0.065\n",
            "56.png: 0.138\n",
            "175.png: 0.147\n",
            "181.png: 0.061\n",
            "110.png: 0.178\n",
            "12.png: 0.220\n",
            "139.png: 0.031\n",
            "188.png: 0.207\n",
            "136.png: 0.120\n",
            "13.png: 0.029\n",
            "111.png: 0.122\n",
            "117.png: 0.109\n",
            "145.png: 0.064\n",
            "46.png: 0.155\n",
            "45.png: 0.068\n",
            "39.png: 0.052\n",
            "156.png: 0.158\n",
            "170.png: 0.212\n",
            "31.png: 0.152\n",
            "11.png: 0.137\n",
            "64.png: 0.166\n",
            "174.png: 0.190\n",
            "142.png: 0.108\n",
            "10.png: 0.081\n",
            "24.png: 0.210\n",
            "98.png: 0.129\n",
            "132.png: 0.157\n",
            "122.png: 0.191\n",
            "133.png: 0.041\n",
            "137.png: 0.084\n",
            "144.png: 0.165\n",
            "199.png: 0.026\n",
            "172.png: 0.186\n",
            "153.png: 0.174\n",
            "78.png: 0.206\n",
            "176.png: 0.207\n",
            "130.png: 0.149\n",
            "34.png: 0.100\n",
            "195.png: 0.089\n",
            "86.png: 0.171\n",
            "159.png: 0.097\n",
            "95.png: 0.185\n",
            "187.png: 0.123\n",
            "191.png: 0.242\n",
            "131.png: 0.088\n",
            "185.png: 0.050\n",
            "63.png: 0.101\n",
            "166.png: 0.086\n",
            "99.png: 0.116\n",
            "38.png: 0.129\n",
            "52.png: 0.199\n",
            "192.png: 0.188\n",
            "28.png: 0.161\n",
            "168.png: 0.132\n",
            "160.png: 0.125\n",
            "182.png: 0.111\n",
            "129.png: 0.081\n",
            "193.png: 0.023\n",
            "8.png: 0.201\n",
            "3.png: 0.168\n",
            "16.png: 0.091\n",
            "80.png: 0.156\n",
            "84.png: 0.198\n",
            "161.png: 0.168\n",
            "23.png: 0.171\n",
            "155.png: 0.184\n",
            "44.png: 0.188\n",
            "138.png: 0.126\n",
            "162.png: 0.115\n",
            "81.png: 0.047\n",
            "25.png: 0.052\n",
            "183.png: 0.099\n",
            "30.png: 0.171\n",
            "7.png: 0.128\n",
            "43.png: 0.106\n",
            "90.png: 0.122\n",
            "17.png: 0.063\n",
            "109.png: 0.035\n",
            "93.png: 0.028\n",
            "190.png: 0.081\n",
            "36.png: 0.140\n",
            "67.png: 0.059\n",
            "40.png: 0.055\n",
            "20.png: 0.161\n",
            "198.png: 0.202\n",
            "128.png: 0.152\n",
            "107.png: 0.168\n",
            "140.png: 0.190\n",
            "77.png: 0.159\n",
            "135.png: 0.141\n",
            "179.png: 0.181\n",
            "134.png: 0.229\n",
            "114.png: 0.151\n"
          ]
        }
      ]
    }
  ]
}